{
 "cells": [
  {
   "cell_type": "code",
   "execution_count": 51,
   "id": "3fe1460f-833d-4efd-b61b-a3da1b68e62f",
   "metadata": {},
   "outputs": [
    {
     "name": "stdout",
     "output_type": "stream",
     "text": [
      "Cold Temperatures: [7.6, 3.5, 4.5, 8.0, 9.7, 6.9, 4.8, 8.6, 2.8, 7.9, 0.8, 1.3, 5.9, 9.5, 0.2, 1.8, 2.6, 6.6, 7.0]\n",
      "Mild Temperatures: [12.8, 13.4, 11.5, 10.6, 13.2, 10.8, 12.0, 11.1, 13.8, 12.7, 10.0, 14.2, 11.9]\n",
      "Comfortable Temperatures: [15.7, 16.7, 17.2, 18.7, 18.9, 19.2, 16.3, 19.0, 15.0, 19.8, 16.6]\n"
     ]
    }
   ],
   "source": [
    "'''\n",
    "Task 1. Classify Temperatures:\n",
    "1. Create empty lists for temperature classifications:\n",
    "(a) Cold: temperatures below 10°C.\n",
    "(b) Mild: temperatures between 10°C and 15°C.\n",
    "(c) Comfortable: temperatures between 15°C and 20°C.\n",
    "\n",
    "2. Iterate over the temperatures list and add each temperature to the appropriate cate-\n",
    "gory.\n",
    "\n",
    "3. Print the lists to verify the classifications.\n",
    "'''\n",
    "# List of temperature readings of Kathmandu\n",
    "temperatures = [\n",
    "    7.6, 12.8, 22.8, 13.4, 23.0, 21.1, 3.5, 4.5, 11.5, 15.7, 8.0,\n",
    "    9.7, 6.9, 16.7, 4.8, 8.6, 2.8, 7.9, 17.2, 0.8, 23.9, \n",
    "    1.3, 5.9, 9.5, 10.6, 13.2, 18.7, 20.7, 22.2, 24.0, 10.8, 18.9, \n",
    "    19.2, 0.2, 1.8, 2.6, 6.6, 7.0, 12.0, 16.3, 22.9, 11.1, 13.8, 19.0, \n",
    "    12.7, 10.0, 14.2, 15.0, 11.9, 19.8, 20.0, 16.6\n",
    "]\n",
    "\n",
    "# Step 1: Empty lists for temperature classifications\n",
    "cold = []         # Temperatures below 10°C\n",
    "mild = []         # Temperatures between 10°C and 15°C\n",
    "comfortable = []  # Temperatures between 15°C and 20°C\n",
    "\n",
    "# Step 2: Iterating over the temperatures list and classifying them\n",
    "for temp in temperatures:\n",
    "    if temp < 10:\n",
    "        cold.append(temp)\n",
    "    elif 10 <= temp < 15:\n",
    "        mild.append(temp)\n",
    "    elif 15 <= temp < 20:\n",
    "        comfortable.append(temp)\n",
    "\n",
    "# Step 3: Printing the lists \n",
    "print(\"Cold Temperatures:\", cold)\n",
    "print(\"Mild Temperatures:\", mild)\n",
    "print(\"Comfortable Temperatures:\", comfortable)\n"
   ]
  },
  {
   "cell_type": "code",
   "execution_count": 52,
   "id": "79d0c9ba-6f3d-4a2e-95c6-74ccfb676a8d",
   "metadata": {},
   "outputs": [
    {
     "name": "stdout",
     "output_type": "stream",
     "text": [
      "How many times was it mild? 13\n",
      "How many times was it comfortable? 11\n",
      "How many times was it cold? 19\n"
     ]
    }
   ],
   "source": [
    "'''\n",
    "Task 2. Based on Data - Answer all the Questions:\n",
    "1. How many times was it mild?\n",
    "(a) Hint: Count the number of items in the mild list and print the result.\n",
    "2. How many times was it comfortable?\n",
    "3. How many times was it cold?\n",
    "'''\n",
    "# List of temperature readings of Kathmandu\n",
    "temperatures = [\n",
    "    7.6, 12.8, 22.8, 13.4, 23.0, 21.1, 3.5, 4.5, 11.5, 15.7, 8.0,\n",
    "    9.7, 6.9, 16.7, 4.8, 8.6, 2.8, 7.9, 17.2, 0.8, 23.9, \n",
    "    1.3, 5.9, 9.5, 10.6, 13.2, 18.7, 20.7, 22.2, 24.0, 10.8, 18.9, \n",
    "    19.2, 0.2, 1.8, 2.6, 6.6, 7.0, 12.0, 16.3, 22.9, 11.1, 13.8, 19.0, \n",
    "    12.7, 10.0, 14.2, 15.0, 11.9, 19.8, 20.0, 16.6\n",
    "]\n",
    "\n",
    "# Step 1: Creating empty lists for temperature classifications\n",
    "cold = []         # Temperatures below 10°C\n",
    "mild = []         # Temperatures between 10°C and 15°C\n",
    "comfortable = []  # Temperatures between 15°C and 20°C\n",
    "\n",
    "# Step 2: Iterating over the temperatures list and classifying them\n",
    "for temp in temperatures:\n",
    "    if temp < 10:\n",
    "        cold.append(temp)\n",
    "    elif 10 <= temp < 15:\n",
    "        mild.append(temp)\n",
    "    elif 15 <= temp < 20:\n",
    "        comfortable.append(temp)\n",
    "\n",
    "# Step 3: Counting the number of items in each list\n",
    "cold_count = len(cold)\n",
    "mild_count = len(mild)\n",
    "comfortable_count = len(comfortable)\n",
    "\n",
    "# Step 4: Printing the results\n",
    "print(f\"How many times was it mild? {mild_count}\")\n",
    "print(f\"How many times was it comfortable? {comfortable_count}\")\n",
    "print(f\"How many times was it cold? {cold_count}\")\n"
   ]
  },
  {
   "cell_type": "code",
   "execution_count": null,
   "id": "baf2c93e-ab87-4635-bd73-09bee2a911fd",
   "metadata": {},
   "outputs": [
    {
     "name": "stdout",
     "output_type": "stream",
     "text": [
      "Temperatures in Fahrenheit: [45.68, 55.04, 73.04, 56.120000000000005, 73.4, 69.98, 38.3, 40.1, 52.7, 60.26, 46.4, 49.46, 44.42, 62.059999999999995, 40.64, 47.48, 37.04, 46.22, 62.959999999999994, 33.44, 75.02, 34.34, 42.620000000000005, 49.1, 51.08, 55.76, 65.66, 69.25999999999999, 71.96, 75.2, 51.44, 66.02, 66.56, 32.36, 35.24, 36.68, 43.879999999999995, 44.6, 53.6, 61.34, 73.22, 51.98, 56.84, 66.2, 54.86, 50.0, 57.56, 59.0, 53.42, 67.64, 68.0, 61.88]\n"
     ]
    }
   ],
   "source": [
    "'''\n",
    "Task 3. Convert Temperatures from Celsius to Fahrenheit\n",
    "\n",
    "Using the formula for temperature conversion, convert each reading from Celsius to Fahren-\n",
    "heit and store it in a new list called temperatures_fahrenheit.\n",
    "\n",
    "Formula: Fahrenheit = (Celsius ×\n",
    "9\n",
    "5\n",
    ") + 32\n",
    "\n",
    "1. Iterate over the temperatures list and apply the formula to convert each temperature.\n",
    "2. Store the results in the new list.\n",
    "3. Print the converted Fahrenheit values.\n",
    "'''\n",
    "# List of temperature readings in Celsius\n",
    "temperatures = [\n",
    "   7.6, 12.8, 22.8, 13.4, 23.0, 21.1, 3.5, 4.5, 11.5, 15.7, 8.0,\n",
    "    9.7, 6.9, 16.7, 4.8, 8.6, 2.8, 7.9, 17.2, 0.8, 23.9, \n",
    "    1.3, 5.9, 9.5, 10.6, 13.2, 18.7, 20.7, 22.2, 24.0, 10.8, 18.9, \n",
    "    19.2, 0.2, 1.8, 2.6, 6.6, 7.0, 12.0, 16.3, 22.9, 11.1, 13.8, 19.0, \n",
    "    12.7, 10.0, 14.2, 15.0, 11.9, 19.8, 20.0, 16.6\n",
    "]\n",
    "\n",
    "# Step 1: Creating an empty list to store Fahrenheit temperatures\n",
    "temperatures_fahrenheit = []\n",
    "\n",
    "# Step 2: Iterating over the temperatures list and converting to Fahrenheit\n",
    "for temp in temperatures:\n",
    "    fahrenheit = (temp * 9/5) + 32\n",
    "    temperatures_fahrenheit.append(fahrenheit)\n",
    "\n",
    "# Step 3: Printing the converted Fahrenheit values\n",
    "print(\"Temperatures in Fahrenheit:\", temperatures_fahrenheit)\n"
   ]
  },
  {
   "cell_type": "code",
   "execution_count": 61,
   "id": "7aa69bec-17e3-4174-af4f-db1be78618be",
   "metadata": {},
   "outputs": [
    {
     "name": "stdout",
     "output_type": "stream",
     "text": [
      "Night temperatures: [7.6, 13.4, 3.5, 15.7, 6.9, 8.6, 17.2, 1.3, 10.6, 20.7, 10.8, 0.2, 6.6, 16.3, 13.8, 10.0, 11.9, 16.6]\n",
      "Evening temperatures: [12.8, 23.0, 4.5, 8.0, 16.7, 2.8, 0.8, 5.9, 13.2, 22.2, 18.9, 1.8, 7.0, 22.9, 19.0, 14.2, 19.8]\n",
      "Day temperatures: [22.8, 21.1, 11.5, 9.7, 4.8, 7.9, 23.9, 9.5, 18.7, 24.0, 19.2, 2.6, 12.0, 11.1, 12.7, 15.0, 20.0]\n",
      "Average day-time temperature: 14.50°C\n"
     ]
    }
   ],
   "source": [
    "'''\n",
    "Task 4. Analyze Temperature Patterns by Time of Day:\n",
    "Scenario: Each day’s readings are grouped as:\n",
    "• Night (00-08),\n",
    "• Evening (08-16),\n",
    "• Day (16-24).\n",
    "1. Create empty lists for night, day, and evening temperatures.\n",
    "2. Iterate over the temperatures list, assigning values to each time-of-day list based on\n",
    "their position.\n",
    "3. Calculate and print the average day-time temperature.\n",
    "4. (Optional) Plot ”day vs. temperature” using matplotlib.\n",
    "'''\n",
    "# List of temperature readings in Celsius\n",
    "temperatures = [\n",
    "       7.6, 12.8, 22.8, 13.4, 23.0, 21.1, 3.5, 4.5, 11.5, 15.7, 8.0,\n",
    "    9.7, 6.9, 16.7, 4.8, 8.6, 2.8, 7.9, 17.2, 0.8, 23.9, \n",
    "    1.3, 5.9, 9.5, 10.6, 13.2, 18.7, 20.7, 22.2, 24.0, 10.8, 18.9, \n",
    "    19.2, 0.2, 1.8, 2.6, 6.6, 7.0, 12.0, 16.3, 22.9, 11.1, 13.8, 19.0, \n",
    "    12.7, 10.0, 14.2, 15.0, 11.9, 19.8, 20.0, 16.6\n",
    "]\n",
    "\n",
    "# Step 1: Creating empty lists for night, evening, and day temperatures\n",
    "night = []\n",
    "evening = []\n",
    "day = []\n",
    "\n",
    "# Step 2: Assigning values to each time-of-day list\n",
    "for i, temp in enumerate(temperatures):\n",
    "    if i % 3 == 0:       # Temperature of Night (00-08)\n",
    "        night.append(temp)\n",
    "    elif i % 3 == 1:     # Temperature of Evening (08-16)\n",
    "        evening.append(temp)\n",
    "    elif i % 3 == 2:     # Temperature of Day (16-24)\n",
    "        day.append(temp)\n",
    "\n",
    "# Step 3: Calculating the average day-time temperature\n",
    "average_day_temp = sum(day) / len(day)\n",
    "\n",
    "# Printing results\n",
    "print(f\"Night temperatures: {night}\")\n",
    "print(f\"Evening temperatures: {evening}\")\n",
    "print(f\"Day temperatures: {day}\")\n",
    "print(f\"Average day-time temperature: {average_day_temp:.2f}°C\")\n",
    "\n"
   ]
  },
  {
   "cell_type": "code",
   "execution_count": 55,
   "id": "c967c87f-ef81-4a05-bdf1-4337ea26c4b9",
   "metadata": {},
   "outputs": [
    {
     "name": "stdout",
     "output_type": "stream",
     "text": [
      "36\n"
     ]
    }
   ],
   "source": [
    "'''\n",
    "Task 1 - Sum of Nested Lists:\n",
    "Scenario: You have a list that contains numbers and other lists of numbers (nested lists).\n",
    "You want to find the total sum of all the numbers in this structure.\n",
    "Task:\n",
    "• Write a recursive function sum_nested_list(nested_list) that:\n",
    "1. Takes a nested list (a list that can contain numbers or other lists of numbers) as\n",
    "input.\n",
    "2. Sums all numbers at every depth level of the list, regardless of how deeply nested\n",
    "the numbers are.\n",
    "• Test the function with a sample nested list, such as\n",
    "nested_list = [1, [2, [3, 4], 5], 6, [7, 8]].\n",
    "The result should be the total sum of all the numbers.\n",
    "'''\n",
    "def sum_nested_list(nested_list):\n",
    "    total = 0\n",
    "    for item in nested_list:\n",
    "        if isinstance(item, list):  # If the item is a list, recurse\n",
    "            total += sum_nested_list(item)\n",
    "        else:  # If it's a number, add it to the total\n",
    "            total += item\n",
    "    return total\n",
    "\n",
    "# Testing the function with the given nested list\n",
    "nested_list = [1, [2, [3, 4], 5], 6, [7, 8]]\n",
    "result = sum_nested_list(nested_list)\n",
    "print(result)  \n"
   ]
  },
  {
   "cell_type": "code",
   "execution_count": 56,
   "id": "498482db-8cf4-49d1-9715-b50b5cb7164f",
   "metadata": {},
   "outputs": [
    {
     "name": "stdout",
     "output_type": "stream",
     "text": [
      "['acb', 'cab', 'cba', 'bac', 'bca', 'abc']\n",
      "['aab', 'baa', 'aba']\n"
     ]
    }
   ],
   "source": [
    "'''\n",
    "Task 2 - Generate All Permutations of a String:\n",
    "Scenario: Given a string, generate all possible permutations of its characters. This is useful\n",
    "for understanding backtracking and recursive depth-first search.\n",
    "Task:\n",
    "• Write a recursive function generate_permutations(s) that:\n",
    "– Takes a string s as input and returns a list of all unique permutations.\n",
    "• Test with strings like ”abc” and ”aab”.\n",
    "\n",
    "print(generate_permutations(\"abc\"))\n",
    "# Should return [’abc’, ’acb’, ’bac’, ’bca’, ’cab’, ’cba’]\n",
    "'''\n",
    "def generate_permutations(s):\n",
    "    def backtrack(start, end, s, result):\n",
    "        if start == end:\n",
    "            result.append(''.join(s))  # Add the permutation to result\n",
    "        else:\n",
    "            for i in range(start, end):\n",
    "                # Swap the current index with the start\n",
    "                s[start], s[i] = s[i], s[start]\n",
    "                # Recurse with the next index\n",
    "                backtrack(start + 1, end, s, result)\n",
    "                # Backtrack, undo the swap\n",
    "                s[start], s[i] = s[i], s[start]\n",
    "\n",
    "    result = []\n",
    "    # Convert the string to a list of characters because strings are immutable in Python\n",
    "    s = list(s)\n",
    "    backtrack(0, len(s), s, result)\n",
    "    return list(set(result))  # Return unique permutations\n",
    "\n",
    "# Testing with the example string \"abc\"\n",
    "print(generate_permutations(\"abc\"))\n",
    "# Result should be: ['abc', 'acb', 'bac', 'bca', 'cab', 'cba']\n",
    "\n",
    "# Test with the string \"aab\"\n",
    "print(generate_permutations(\"aab\"))\n",
    "# Result should be: ['aab', 'aba', 'baa']\n"
   ]
  },
  {
   "cell_type": "code",
   "execution_count": 57,
   "id": "2ecf8111-3937-4203-915a-1a79923678b4",
   "metadata": {},
   "outputs": [
    {
     "name": "stdout",
     "output_type": "stream",
     "text": [
      "Total size of the directory: 1400 KB\n"
     ]
    }
   ],
   "source": [
    "'''\n",
    "Task:\n",
    "1. Write a recursive function calculate_directory_size(directory) where:\n",
    "• directory is a dictionary where keys represent file names (with values as sizes in\n",
    "\n",
    "KB) or directory names (with values as another dictionary representing a subdi-\n",
    "rectory).\n",
    "\n",
    "• The function should return the total size of the directory, including all nested\n",
    "subdirectories.\n",
    "2. Test the function with a sample directory structure.\n",
    "'''\n",
    "def calculate_directory_size(directory):\n",
    "    total_size = 0\n",
    "    \n",
    "    # Iterating through the items in the directory\n",
    "    for item, value in directory.items():\n",
    "        if isinstance(value, dict):\n",
    "            # If the value is a subdirectory (a dictionary), recurse into it\n",
    "            total_size += calculate_directory_size(value)\n",
    "        else:\n",
    "            # If it's a file, add its size to the total\n",
    "            total_size += value\n",
    "    \n",
    "    return total_size\n",
    "\n",
    "# Sample directory structure for testing\n",
    "directory_structure = {\n",
    "    \"file1.txt\": 200,\n",
    "    \"file2.txt\": 300,\n",
    "    \"subdir1\": {\n",
    "        \"file3.txt\": 400,\n",
    "        \"file4.txt\": 100\n",
    "    },\n",
    "    \"subdir2\": {\n",
    "        \"subsubdir1\": {\n",
    "            \"file5.txt\": 250\n",
    "        },\n",
    "        \"file6.txt\": 150\n",
    "    }\n",
    "}\n",
    "\n",
    "# Test the function\n",
    "result = calculate_directory_size(directory_structure)\n",
    "print(f\"Total size of the directory: {result} KB\")  # Expected output: 1400 KB\n"
   ]
  },
  {
   "cell_type": "code",
   "execution_count": 58,
   "id": "ffcc5c8b-d173-4e95-8014-7265cced613b",
   "metadata": {},
   "outputs": [
    {
     "name": "stdout",
     "output_type": "stream",
     "text": [
      "3\n"
     ]
    }
   ],
   "source": [
    "'''\n",
    "Task 1 - Coin Change Problem:\n",
    "Scenario: Given a set of coin denominations and a target amount, find the minimum number\n",
    "of coins needed to make the amount. If it’s not possible, return - 1.\n",
    "Task:\n",
    "1. Write a function min_coins(coins, amount) that:\n",
    "• Uses DP to calculate the minimum number of coins needed to make up the\n",
    "amount.\n",
    "2. Test with coins = [1, 2, 5] and amount = 11. The result should be 3 (using coins\n",
    "[5, 5, 1]).\n",
    "'''\n",
    "def min_coins(coins, amount):\n",
    "    # Create a DP array, initialize with infinity\n",
    "    dp = [float('inf')] * (amount + 1)\n",
    "    \n",
    "    # Base case: no coins needed to make amount 0\n",
    "    dp[0] = 0\n",
    "    \n",
    "    # Iterate through each coin\n",
    "    for coin in coins:\n",
    "        for i in range(coin, amount + 1):\n",
    "            # If it's possible to make the amount i using the current coin\n",
    "            dp[i] = min(dp[i], dp[i - coin] + 1)\n",
    "    \n",
    "    # If dp[amount] is still infinity, it means we can't make the amount\n",
    "    return dp[amount] if dp[amount] != float('inf') else -1\n",
    "\n",
    "# Test the function with the example coins and amount\n",
    "coins = [1, 2, 5]\n",
    "amount = 11\n",
    "result = min_coins(coins, amount)\n",
    "print(result)  # The expected result is 3 (using coins [5, 5, 1])\n"
   ]
  },
  {
   "cell_type": "code",
   "execution_count": 59,
   "id": "8468e3fe-0087-4122-ae60-e21c18c56090",
   "metadata": {},
   "outputs": [
    {
     "name": "stdout",
     "output_type": "stream",
     "text": [
      "3\n"
     ]
    }
   ],
   "source": [
    "'''\n",
    "Task 2 - Longest Common Subsequence (LCS):\n",
    "Scenario: Given two strings, find the length of their longest common subsequence (LCS).\n",
    "This is useful in text comparison.\n",
    "Task:\n",
    "1. Write a function longest_common_subsequence(s1, s2) that:\n",
    "• Uses DP to find the length of the LCS of two strings s1 and s2.\n",
    "2. Test with strings like \"abcde\" and \"ace\"; the LCS length should be 3 (\"ace\").\n",
    "'''\n",
    "def longest_common_subsequence(s1, s2):\n",
    "    # Create a DP table with dimensions (len(s1)+1) x (len(s2)+1)\n",
    "    dp = [[0] * (len(s2) + 1) for _ in range(len(s1) + 1)]\n",
    "    \n",
    "    # Fill the DP table\n",
    "    for i in range(1, len(s1) + 1):\n",
    "        for j in range(1, len(s2) + 1):\n",
    "            if s1[i-1] == s2[j-1]:\n",
    "                dp[i][j] = dp[i-1][j-1] + 1  # Characters match, extend the subsequence\n",
    "            else:\n",
    "                dp[i][j] = max(dp[i-1][j], dp[i][j-1])  # Characters don't match, take the max\n",
    "    \n",
    "    # The length of the LCS will be in dp[len(s1)][len(s2)]\n",
    "    return dp[len(s1)][len(s2)]\n",
    "\n",
    "# Test with the example strings \"abcde\" and \"ace\"\n",
    "s1 = \"abcde\"\n",
    "s2 = \"ace\"\n",
    "result = longest_common_subsequence(s1, s2)\n",
    "print(result)  # The expected result is 3 (\"ace\")\n"
   ]
  },
  {
   "cell_type": "code",
   "execution_count": 60,
   "id": "3eed671e-3e02-425b-8600-3937f36a2f80",
   "metadata": {},
   "outputs": [
    {
     "name": "stdout",
     "output_type": "stream",
     "text": [
      "9\n"
     ]
    }
   ],
   "source": [
    "'''\n",
    "Task 3 - 0/1 Knapsack Problem:\n",
    "Scenario: You have a list of items, each with a weight and a value. Given a weight capacity,\n",
    "maximize the total value of items you can carry without exceeding the weight capacity.\n",
    "Task:\n",
    "1. Write a function knapsack(weights, values, capacity) that:\n",
    "• Uses DP to determine the maximum value that can be achieved within the given\n",
    "weight capacity.\n",
    "\n",
    "2. Test with weights [1, 3, 4, 5], values [1, 4, 5, 7], and capacity 7. The re-\n",
    "sult should be 9.\n",
    "'''\n",
    "def knapsack(weights, values, capacity):\n",
    "    n = len(weights)\n",
    "    # Create a DP table where dp[i][w] represents the maximum value for the first i items with weight limit w\n",
    "    dp = [[0] * (capacity + 1) for _ in range(n + 1)]\n",
    "    \n",
    "    # Fill the DP table\n",
    "    for i in range(1, n + 1):\n",
    "        for w in range(capacity + 1):\n",
    "            if weights[i-1] <= w:\n",
    "                # Option 1: Include the current item\n",
    "                dp[i][w] = max(dp[i-1][w], values[i-1] + dp[i-1][w - weights[i-1]])\n",
    "            else:\n",
    "                # Option 2: Do not include the current item\n",
    "                dp[i][w] = dp[i-1][w]\n",
    "    \n",
    "    # The bottom-right corner of the DP table contains the result\n",
    "    return dp[n][capacity]\n",
    "\n",
    "# Test with the given values and weights\n",
    "weights = [1, 3, 4, 5]\n",
    "values = [1, 4, 5, 7]\n",
    "capacity = 7\n",
    "result = knapsack(weights, values, capacity)\n",
    "print(result)  # The expected result is 9\n"
   ]
  }
 ],
 "metadata": {
  "kernelspec": {
   "display_name": "Python 3 (ipykernel)",
   "language": "python",
   "name": "python3"
  },
  "language_info": {
   "codemirror_mode": {
    "name": "ipython",
    "version": 3
   },
   "file_extension": ".py",
   "mimetype": "text/x-python",
   "name": "python",
   "nbconvert_exporter": "python",
   "pygments_lexer": "ipython3",
   "version": "3.12.2"
  }
 },
 "nbformat": 4,
 "nbformat_minor": 5
}
