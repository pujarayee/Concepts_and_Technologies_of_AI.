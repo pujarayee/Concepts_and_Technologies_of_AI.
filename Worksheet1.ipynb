{
  "nbformat": 4,
  "nbformat_minor": 0,
  "metadata": {
    "colab": {
      "provenance": [],
      "toc_visible": true
    },
    "kernelspec": {
      "name": "python3",
      "display_name": "Python 3"
    },
    "language_info": {
      "name": "python"
    }
  },
  "cells": [
    {
      "cell_type": "markdown",
      "source": [
        "1. Initialize an empty array with size 2X2."
      ],
      "metadata": {
        "id": "4uBKEdS65Xgm"
      }
    },
    {
      "cell_type": "code",
      "execution_count": null,
      "metadata": {
        "colab": {
          "base_uri": "https://localhost:8080/"
        },
        "id": "UK03SSHt5BwL",
        "outputId": "2e8ec155-9d8d-4e77-e41b-1cb39cba78e5"
      },
      "outputs": [
        {
          "output_type": "stream",
          "name": "stdout",
          "text": [
            "[[ 4.65909310e-310  0.00000000e+000]\n",
            " [-9.71091487e-214  6.79082799e-310]]\n"
          ]
        }
      ],
      "source": [
        "import numpy as np\n",
        "\n",
        "# Create an empty 2x2 array\n",
        "array = np.empty((2, 2))\n",
        "print(array)\n"
      ]
    },
    {
      "cell_type": "markdown",
      "source": [
        "2. Initialize an all one array with size 4X2."
      ],
      "metadata": {
        "id": "lv9KOMw-5h0b"
      }
    },
    {
      "cell_type": "code",
      "source": [
        "import numpy as np\n",
        "\n",
        "# Create a 4x2 array filled with ones\n",
        "array_ones = np.ones((4, 2))\n",
        "print(array_ones)\n"
      ],
      "metadata": {
        "colab": {
          "base_uri": "https://localhost:8080/"
        },
        "id": "yiax2aEV5gnX",
        "outputId": "e5c8ba1c-8249-450b-c5e6-f482353b9a8d"
      },
      "execution_count": null,
      "outputs": [
        {
          "output_type": "stream",
          "name": "stdout",
          "text": [
            "[[1. 1.]\n",
            " [1. 1.]\n",
            " [1. 1.]\n",
            " [1. 1.]]\n"
          ]
        }
      ]
    },
    {
      "cell_type": "markdown",
      "source": [
        "3. Return a new array of given shape and type, filled with fill value.{Hint: np.full}"
      ],
      "metadata": {
        "id": "3WqZeE5W6Ea4"
      }
    },
    {
      "cell_type": "code",
      "source": [
        "import numpy as np\n",
        "\n",
        "# Create an array with shape (3, 3), filled with the value 7\n",
        "array_filled = np.full((3, 3), 7)\n",
        "print(array_filled)\n"
      ],
      "metadata": {
        "colab": {
          "base_uri": "https://localhost:8080/"
        },
        "id": "STj1annU6Bjo",
        "outputId": "699a134e-e43d-44fa-f473-153766e7fce6"
      },
      "execution_count": null,
      "outputs": [
        {
          "output_type": "stream",
          "name": "stdout",
          "text": [
            "[[7 7 7]\n",
            " [7 7 7]\n",
            " [7 7 7]]\n"
          ]
        }
      ]
    },
    {
      "cell_type": "markdown",
      "source": [
        "4. Return a new array of zeros with same shape and type as a given array.{Hint: np.zeros like}"
      ],
      "metadata": {
        "id": "YnTLymU86R54"
      }
    },
    {
      "cell_type": "code",
      "source": [
        "import numpy as np\n",
        "\n",
        "# Given array\n",
        "given_array = np.array([[1, 2, 3], [4, 5, 6]])\n",
        "\n",
        "# Create a new array of zeros with the same shape and type as given_array\n",
        "zeros_array = np.zeros_like(given_array)\n",
        "print(zeros_array)\n"
      ],
      "metadata": {
        "colab": {
          "base_uri": "https://localhost:8080/"
        },
        "id": "TIwtxjyF6Q3Z",
        "outputId": "05fe70a7-0cb9-4e2c-c2dd-9f824d292078"
      },
      "execution_count": null,
      "outputs": [
        {
          "output_type": "stream",
          "name": "stdout",
          "text": [
            "[[0 0 0]\n",
            " [0 0 0]]\n"
          ]
        }
      ]
    },
    {
      "cell_type": "markdown",
      "source": [
        "5. Return a new array of ones with same shape and type as a given array.{Hint: np.ones like}"
      ],
      "metadata": {
        "id": "-j7LYPgt6eGi"
      }
    },
    {
      "cell_type": "code",
      "source": [
        "import numpy as np\n",
        "\n",
        "# Given array\n",
        "given_array = np.array([[4, 5, 6], [7, 8, 9]])\n",
        "\n",
        "# Create a new array of ones with the same shape and type as given_array\n",
        "ones_array = np.ones_like(given_array)\n",
        "print(ones_array)\n"
      ],
      "metadata": {
        "colab": {
          "base_uri": "https://localhost:8080/"
        },
        "id": "01XSvlXe6nTX",
        "outputId": "72b7b7c5-ce70-468b-e2b1-db02906745ff"
      },
      "execution_count": null,
      "outputs": [
        {
          "output_type": "stream",
          "name": "stdout",
          "text": [
            "[[1 1 1]\n",
            " [1 1 1]]\n"
          ]
        }
      ]
    },
    {
      "cell_type": "markdown",
      "source": [
        "6. For an existing list new_list = [1,2,3,4] convert to an numpy array.{Hint: np.array()}"
      ],
      "metadata": {
        "id": "9RdohjHn6xUn"
      }
    },
    {
      "cell_type": "code",
      "source": [
        "import numpy as np\n",
        "\n",
        "# Existing list\n",
        "new_list = [1, 2, 3, 4]\n",
        "\n",
        "# Convert the list to a NumPy array\n",
        "np_array = np.array(new_list)\n",
        "\n",
        "print(np_array)\n"
      ],
      "metadata": {
        "colab": {
          "base_uri": "https://localhost:8080/"
        },
        "id": "69xLvbWW6w1a",
        "outputId": "455f1c34-1a10-4397-a0d3-637ac7c46a65"
      },
      "execution_count": null,
      "outputs": [
        {
          "output_type": "stream",
          "name": "stdout",
          "text": [
            "[1 2 3 4]\n"
          ]
        }
      ]
    },
    {
      "cell_type": "markdown",
      "source": [
        "1. Create an array with values ranging from 10 to 49. {Hint:np.arrange()}."
      ],
      "metadata": {
        "id": "QMKf5Nlt7Nhr"
      }
    },
    {
      "cell_type": "code",
      "source": [
        "import numpy as np\n",
        "\n",
        "# Create an array with values ranging from 10 to 49\n",
        "array = np.arange(10, 50)\n",
        "print(array)\n"
      ],
      "metadata": {
        "colab": {
          "base_uri": "https://localhost:8080/"
        },
        "id": "ncYfInpo7OpH",
        "outputId": "923dce5e-fe0a-45ae-b122-7b1098cab921"
      },
      "execution_count": null,
      "outputs": [
        {
          "output_type": "stream",
          "name": "stdout",
          "text": [
            "[10 11 12 13 14 15 16 17 18 19 20 21 22 23 24 25 26 27 28 29 30 31 32 33\n",
            " 34 35 36 37 38 39 40 41 42 43 44 45 46 47 48 49]\n"
          ]
        }
      ]
    },
    {
      "cell_type": "markdown",
      "source": [
        "2. Create a 3X3 matrix with values ranging from 0 to 8.\n",
        "{Hint:look for np.reshape()}"
      ],
      "metadata": {
        "id": "LRNLnGj87Vd6"
      }
    },
    {
      "cell_type": "code",
      "source": [
        "import numpy as np\n",
        "\n",
        "# Create an array with values from 0 to 8\n",
        "array = np.arange(9)\n",
        "\n",
        "# Reshape the array into a 3x3 matrix\n",
        "matrix = array.reshape(3, 3)\n",
        "\n",
        "print(matrix)\n"
      ],
      "metadata": {
        "colab": {
          "base_uri": "https://localhost:8080/"
        },
        "id": "hQFZx4Ad7Ur4",
        "outputId": "5b26f7b8-d855-4a88-a634-c65adcf31720"
      },
      "execution_count": null,
      "outputs": [
        {
          "output_type": "stream",
          "name": "stdout",
          "text": [
            "[[0 1 2]\n",
            " [3 4 5]\n",
            " [6 7 8]]\n"
          ]
        }
      ]
    },
    {
      "cell_type": "markdown",
      "source": [
        "3. Create a 3X3 identity matrix.{Hint:np.eye()}"
      ],
      "metadata": {
        "id": "ORprUGpg7mZR"
      }
    },
    {
      "cell_type": "code",
      "source": [
        "import numpy as np\n",
        "\n",
        "# Create a 3x3 identity matrix\n",
        "identity_matrix = np.eye(3)\n",
        "\n",
        "print(identity_matrix)\n"
      ],
      "metadata": {
        "colab": {
          "base_uri": "https://localhost:8080/"
        },
        "id": "27H6xBEx7pN5",
        "outputId": "e69a81d0-894e-4dec-cf9b-2ec6337e4592"
      },
      "execution_count": null,
      "outputs": [
        {
          "output_type": "stream",
          "name": "stdout",
          "text": [
            "[[1. 0. 0.]\n",
            " [0. 1. 0.]\n",
            " [0. 0. 1.]]\n"
          ]
        }
      ]
    },
    {
      "cell_type": "markdown",
      "source": [
        "4. Create a random array of size 30 and find the mean of the array.\n",
        "{Hint:check for np.random.random() and array.mean() function}"
      ],
      "metadata": {
        "id": "p_XQv-7F7zOq"
      }
    },
    {
      "cell_type": "code",
      "source": [
        "import numpy as np\n",
        "\n",
        "# Create a random array of size 30\n",
        "random_array = np.random.random(30)\n",
        "\n",
        "# Calculate the mean of the array\n",
        "mean_value = random_array.mean()\n",
        "\n",
        "print(\"Random Array:\", random_array)\n",
        "print(\"Mean of the Array:\", mean_value)\n"
      ],
      "metadata": {
        "colab": {
          "base_uri": "https://localhost:8080/"
        },
        "id": "r32TssuD73Nw",
        "outputId": "d3d1447d-53ea-4644-f9de-d9c88beb1cbd"
      },
      "execution_count": null,
      "outputs": [
        {
          "output_type": "stream",
          "name": "stdout",
          "text": [
            "Random Array: [0.11744036 0.84219124 0.57612867 0.23887212 0.08951854 0.64254978\n",
            " 0.89854532 0.10985256 0.82655012 0.82992212 0.76298577 0.12761042\n",
            " 0.36281443 0.37114983 0.77056043 0.46390521 0.61277965 0.23864143\n",
            " 0.43201424 0.77957064 0.12199605 0.58936612 0.15840686 0.3523476\n",
            " 0.77178736 0.27375621 0.19215226 0.04794109 0.61615993 0.58779918]\n",
            "Mean of the Array: 0.4601771848452687\n"
          ]
        }
      ]
    },
    {
      "cell_type": "markdown",
      "source": [
        "5. Create a 10X10 array with random values and find the minimum and maximum values."
      ],
      "metadata": {
        "id": "6t4LcOEY7_7Z"
      }
    },
    {
      "cell_type": "code",
      "source": [
        "import numpy as np\n",
        "\n",
        "# Create a 10x10 array with random values between 0 and 1\n",
        "random_array = np.random.random((10, 10))\n",
        "\n",
        "# Find the minimum and maximum values\n",
        "min_value = random_array.min()\n",
        "max_value = random_array.max()\n",
        "\n",
        "print(\"Random 10x10 Array:\")\n",
        "print(random_array)\n",
        "print(\"\\nMinimum Value:\", min_value)\n",
        "print(\"Maximum Value:\", max_value)\n"
      ],
      "metadata": {
        "colab": {
          "base_uri": "https://localhost:8080/"
        },
        "id": "xNmvQeSC8HyW",
        "outputId": "eb806218-917e-400e-b070-069d73f4c60f"
      },
      "execution_count": null,
      "outputs": [
        {
          "output_type": "stream",
          "name": "stdout",
          "text": [
            "Random 10x10 Array:\n",
            "[[0.10963287 0.94852823 0.2785078  0.30566265 0.90673672 0.82697493\n",
            "  0.48931442 0.65110797 0.72691342 0.10372131]\n",
            " [0.29894357 0.71789685 0.43931969 0.97854432 0.27288097 0.69358094\n",
            "  0.28010158 0.61372963 0.75662103 0.70831467]\n",
            " [0.09796146 0.23370946 0.19021717 0.1911498  0.64386869 0.56890101\n",
            "  0.98145231 0.80112847 0.81835343 0.55452582]\n",
            " [0.88692581 0.8437087  0.17422141 0.59050069 0.43104336 0.21724424\n",
            "  0.82104765 0.3117085  0.76104378 0.36768492]\n",
            " [0.89664711 0.33923806 0.0183427  0.60107271 0.96777756 0.22340347\n",
            "  0.35466324 0.25082901 0.97953487 0.52296382]\n",
            " [0.56268998 0.49479554 0.58232061 0.76242705 0.96400366 0.99004287\n",
            "  0.1896663  0.34298572 0.14616434 0.99215833]\n",
            " [0.49189151 0.82061959 0.36679223 0.18703696 0.89422559 0.82826989\n",
            "  0.2813752  0.8113815  0.69273213 0.0901478 ]\n",
            " [0.04369987 0.50565482 0.9899375  0.15171771 0.23274708 0.58943769\n",
            "  0.69230383 0.76543152 0.49250731 0.87283465]\n",
            " [0.05570992 0.2729554  0.0449153  0.14161207 0.29982588 0.51217711\n",
            "  0.17444935 0.57745885 0.24425996 0.65588251]\n",
            " [0.53140861 0.78778671 0.10529865 0.85724088 0.62397539 0.9593844\n",
            "  0.28632956 0.24957935 0.79999837 0.36223882]]\n",
            "\n",
            "Minimum Value: 0.01834270484328382\n",
            "Maximum Value: 0.992158328518531\n"
          ]
        }
      ]
    },
    {
      "cell_type": "markdown",
      "source": [
        "6. Create a zero array of size 10 and replace 5th element with 1."
      ],
      "metadata": {
        "id": "joE3PYf48PxQ"
      }
    },
    {
      "cell_type": "code",
      "source": [
        "import numpy as np\n",
        "\n",
        "# Create a zero array of size 10\n",
        "zero_array = np.zeros(10)\n",
        "\n",
        "# Replace the 5th element (index 4) with 1\n",
        "zero_array[4] = 1\n",
        "\n",
        "print(zero_array)\n"
      ],
      "metadata": {
        "colab": {
          "base_uri": "https://localhost:8080/"
        },
        "id": "qrFOcjmi8Syh",
        "outputId": "1ec38cb2-1187-4050-d999-1bf8d2b2dd08"
      },
      "execution_count": null,
      "outputs": [
        {
          "output_type": "stream",
          "name": "stdout",
          "text": [
            "[0. 0. 0. 0. 1. 0. 0. 0. 0. 0.]\n"
          ]
        }
      ]
    },
    {
      "cell_type": "markdown",
      "source": [
        "7. Reverse an array arr = [1,2,0,0,4,0]."
      ],
      "metadata": {
        "id": "6yrBZKgA8YPZ"
      }
    },
    {
      "cell_type": "code",
      "source": [
        "# Given array\n",
        "arr = [1, 2, 0, 0, 4, 0]\n",
        "\n",
        "# Reverse the array using slicing\n",
        "reversed_arr = arr[::-1]\n",
        "\n",
        "print(reversed_arr)\n"
      ],
      "metadata": {
        "colab": {
          "base_uri": "https://localhost:8080/"
        },
        "id": "3PWBbkli8b6j",
        "outputId": "2bad9204-4c4e-4a5e-edad-53cd7e3d370b"
      },
      "execution_count": null,
      "outputs": [
        {
          "output_type": "stream",
          "name": "stdout",
          "text": [
            "[0, 4, 0, 0, 2, 1]\n"
          ]
        }
      ]
    },
    {
      "cell_type": "markdown",
      "source": [
        "8. Create a 2d array with 1 on border and 0 inside."
      ],
      "metadata": {
        "id": "1RoS3_vi80PD"
      }
    },
    {
      "cell_type": "code",
      "source": [
        "import numpy as np\n",
        "\n",
        "# Define the size of the array (e.g., 5x5)\n",
        "size = 5\n",
        "\n",
        "# Create a 2D array filled with zeros\n",
        "array = np.zeros((size, size), dtype=int)\n",
        "\n",
        "# Set the border elements to 1\n",
        "array[0, :] = 1  # Set top row to 1\n",
        "array[-1, :] = 1  # Set bottom row to 1\n",
        "array[:, 0] = 1  # Set left column to 1\n",
        "array[:, -1] = 1  # Set right column to 1\n",
        "\n",
        "print(array)\n"
      ],
      "metadata": {
        "colab": {
          "base_uri": "https://localhost:8080/"
        },
        "id": "7q6R3hsG84Ov",
        "outputId": "68f1cbca-34d6-4fd5-c0cb-00934e61d7e2"
      },
      "execution_count": null,
      "outputs": [
        {
          "output_type": "stream",
          "name": "stdout",
          "text": [
            "[[1 1 1 1 1]\n",
            " [1 0 0 0 1]\n",
            " [1 0 0 0 1]\n",
            " [1 0 0 0 1]\n",
            " [1 1 1 1 1]]\n"
          ]
        }
      ]
    },
    {
      "cell_type": "markdown",
      "source": [
        "9. Create a 8X8 matrix and fill it with a checkerboard pattern."
      ],
      "metadata": {
        "id": "HgTW555M8_Lo"
      }
    },
    {
      "cell_type": "code",
      "source": [
        "import numpy as np\n",
        "\n",
        "# Create an 8x8 matrix filled with zeros\n",
        "checkerboard = np.zeros((8, 8), dtype=int)\n",
        "\n",
        "# Fill the checkerboard pattern with 1s\n",
        "checkerboard[1::2, ::2] = 1  # Set 1s in the alternating columns for even rows\n",
        "checkerboard[::2, 1::2] = 1  # Set 1s in the alternating columns for odd rows\n",
        "\n",
        "print(checkerboard)\n"
      ],
      "metadata": {
        "colab": {
          "base_uri": "https://localhost:8080/"
        },
        "id": "J37RNFXO9Cwn",
        "outputId": "ece549e8-6a40-485e-8acf-2839e25b13ae"
      },
      "execution_count": null,
      "outputs": [
        {
          "output_type": "stream",
          "name": "stdout",
          "text": [
            "[[0 1 0 1 0 1 0 1]\n",
            " [1 0 1 0 1 0 1 0]\n",
            " [0 1 0 1 0 1 0 1]\n",
            " [1 0 1 0 1 0 1 0]\n",
            " [0 1 0 1 0 1 0 1]\n",
            " [1 0 1 0 1 0 1 0]\n",
            " [0 1 0 1 0 1 0 1]\n",
            " [1 0 1 0 1 0 1 0]]\n"
          ]
        }
      ]
    },
    {
      "cell_type": "markdown",
      "source": [
        "Problem - 3: Array Operations:\n",
        "For the following arrays:\n",
        "x = np.array([[1,2],[3,5]]) and y = np.array([[5,6],[7,8]]);\n",
        "v = np.array([9,10]) and w = np.array([11,12]);\n",
        "Complete all the task using numpy:\n",
        "1. Add the two array."
      ],
      "metadata": {
        "id": "cG2LhBBo9K_L"
      }
    },
    {
      "cell_type": "code",
      "source": [
        "import numpy as np\n",
        "\n",
        "# Define the arrays\n",
        "x = np.array([[1, 2], [3, 5]])\n",
        "y = np.array([[5, 6], [7, 8]])\n",
        "\n",
        "# Add the two arrays\n",
        "result = x + y\n",
        "\n",
        "print(result)\n"
      ],
      "metadata": {
        "colab": {
          "base_uri": "https://localhost:8080/"
        },
        "id": "kpPOw-UI9PsR",
        "outputId": "3700993d-7e0c-4ed6-f7f3-3f30b9b28f6f"
      },
      "execution_count": null,
      "outputs": [
        {
          "output_type": "stream",
          "name": "stdout",
          "text": [
            "[[ 6  8]\n",
            " [10 13]]\n"
          ]
        }
      ]
    },
    {
      "cell_type": "markdown",
      "source": [
        "2. Subtract the two array."
      ],
      "metadata": {
        "id": "eiIv1Wz69Vlo"
      }
    },
    {
      "cell_type": "code",
      "source": [
        "import numpy as np\n",
        "\n",
        "# Define the arrays\n",
        "x = np.array([[1, 2], [3, 5]])\n",
        "y = np.array([[5, 6], [7, 8]])\n",
        "\n",
        "# Subtract the two arrays\n",
        "result = x - y\n",
        "\n",
        "print(result)\n"
      ],
      "metadata": {
        "colab": {
          "base_uri": "https://localhost:8080/"
        },
        "id": "DntwQZ579aF4",
        "outputId": "0994130f-ac64-434f-9d4c-774808976d78"
      },
      "execution_count": null,
      "outputs": [
        {
          "output_type": "stream",
          "name": "stdout",
          "text": [
            "[[-4 -4]\n",
            " [-4 -3]]\n"
          ]
        }
      ]
    },
    {
      "cell_type": "markdown",
      "source": [
        "3. Multiply the array with any integers of your choice."
      ],
      "metadata": {
        "id": "Vl5p3Hm59fzC"
      }
    },
    {
      "cell_type": "code",
      "source": [
        "import numpy as np\n",
        "\n",
        "# Define the arrays\n",
        "x = np.array([[1, 2], [3, 5]])\n",
        "y = np.array([[5, 6], [7, 8]])\n",
        "\n",
        "# Multiply the array x by an integer (for example, 2)\n",
        "result_x = x * 2\n",
        "\n",
        "# Multiply the array y by an integer (for example, 3)\n",
        "result_y = y * 3\n",
        "\n",
        "print(\"x multiplied by 2:\")\n",
        "print(result_x)\n",
        "\n",
        "print(\"\\ny multiplied by 3:\")\n",
        "print(result_y)\n"
      ],
      "metadata": {
        "colab": {
          "base_uri": "https://localhost:8080/"
        },
        "id": "XK3Y3Dad9jg9",
        "outputId": "f1c6a469-3205-497e-af88-32228a13005f"
      },
      "execution_count": null,
      "outputs": [
        {
          "output_type": "stream",
          "name": "stdout",
          "text": [
            "x multiplied by 2:\n",
            "[[ 2  4]\n",
            " [ 6 10]]\n",
            "\n",
            "y multiplied by 3:\n",
            "[[15 18]\n",
            " [21 24]]\n"
          ]
        }
      ]
    },
    {
      "cell_type": "markdown",
      "source": [
        "4. Find the square of each element of the array."
      ],
      "metadata": {
        "id": "ss-deiCR9o9K"
      }
    },
    {
      "cell_type": "code",
      "source": [
        "import numpy as np\n",
        "\n",
        "# Define the arrays\n",
        "x = np.array([[1, 2], [3, 5]])\n",
        "y = np.array([[5, 6], [7, 8]])\n",
        "\n",
        "# Square each element of the array x\n",
        "square_x = x ** 2\n",
        "\n",
        "# Alternatively, you can use np.square() to square each element\n",
        "square_y = np.square(y)\n",
        "\n",
        "print(\"Square of each element in x:\")\n",
        "print(square_x)\n",
        "\n",
        "print(\"\\nSquare of each element in y:\")\n",
        "print(square_y)\n"
      ],
      "metadata": {
        "colab": {
          "base_uri": "https://localhost:8080/"
        },
        "id": "t9DqFsw09uGQ",
        "outputId": "7ae887f8-cd30-4808-99b7-22fe9af4c2a6"
      },
      "execution_count": null,
      "outputs": [
        {
          "output_type": "stream",
          "name": "stdout",
          "text": [
            "Square of each element in x:\n",
            "[[ 1  4]\n",
            " [ 9 25]]\n",
            "\n",
            "Square of each element in y:\n",
            "[[25 36]\n",
            " [49 64]]\n"
          ]
        }
      ]
    },
    {
      "cell_type": "markdown",
      "source": [
        "5. Find the dot product between: v(and)w ; x(and)v ; x(and)y."
      ],
      "metadata": {
        "id": "KWtd6FNc90Y3"
      }
    },
    {
      "cell_type": "code",
      "source": [
        "import numpy as np\n",
        "\n",
        "# Define the arrays\n",
        "x = np.array([[1, 2], [3, 5]])  # 2x2 array\n",
        "y = np.array([[5, 6], [7, 8]])  # 2x2 array\n",
        "v = np.array([9, 10])           # 1D array\n",
        "w = np.array([11, 12])          # 1D array\n",
        "\n",
        "# Dot product of v and w (1D arrays)\n",
        "dot_v_w = np.dot(v, w)\n",
        "\n",
        "# Dot product of x and v (2D array x and 1D array v)\n",
        "dot_x_v = np.dot(x, v)\n",
        "\n",
        "# Dot product of x and y (2D array x and 2D array y)\n",
        "dot_x_y = np.dot(x, y)\n",
        "\n",
        "# Print the results\n",
        "print(\"Dot product of v and w:\", dot_v_w)\n",
        "print(\"Dot product of x and v:\", dot_x_v)\n",
        "print(\"Dot product of x and y:\", dot_x_y)\n"
      ],
      "metadata": {
        "colab": {
          "base_uri": "https://localhost:8080/"
        },
        "id": "J992Xy75932S",
        "outputId": "278502ee-0200-41ae-b751-f09f6c2dfce4"
      },
      "execution_count": null,
      "outputs": [
        {
          "output_type": "stream",
          "name": "stdout",
          "text": [
            "Dot product of v and w: 219\n",
            "Dot product of x and v: [29 77]\n",
            "Dot product of x and y: [[19 22]\n",
            " [50 58]]\n"
          ]
        }
      ]
    },
    {
      "cell_type": "markdown",
      "source": [
        "6. Concatenate x(and)y along row and Concatenate v(and)w along column.\n",
        "{Hint:try np.concatenate() or np.vstack() functions."
      ],
      "metadata": {
        "id": "YCRljPdV-eGK"
      }
    },
    {
      "cell_type": "code",
      "source": [
        "import numpy as np\n",
        "\n",
        "# Define the arrays\n",
        "x = np.array([[1, 2], [3, 5]])  # 2x2 array\n",
        "y = np.array([[5, 6], [7, 8]])  # 2x2 array\n",
        "v = np.array([9, 10])           # 1D array\n",
        "w = np.array([11, 12])          # 1D array\n",
        "\n",
        "# Concatenate x and y along rows (axis=0)\n",
        "concat_x_y = np.concatenate((x, y), axis=0)  # Or you can use np.vstack((x, y))\n",
        "\n",
        "# Concatenate v and w along columns (axis=1)\n",
        "# Reshape v and w from 1D to 2D before concatenating\n",
        "v_reshaped = v.reshape(-1, 1)  # Convert v to a 2D column vector\n",
        "w_reshaped = w.reshape(-1, 1)  # Convert w to a 2D column vector\n",
        "concat_v_w = np.concatenate((v_reshaped, w_reshaped), axis=1)  # Or use np.hstack((v_reshaped, w_reshaped))\n",
        "\n",
        "# Print the results\n",
        "print(\"Concatenated x and y along rows:\")\n",
        "print(concat_x_y)\n",
        "\n",
        "print(\"\\nConcatenated v and w along columns:\")\n",
        "print(concat_v_w)\n"
      ],
      "metadata": {
        "colab": {
          "base_uri": "https://localhost:8080/"
        },
        "id": "aVnQAl6Y-jNe",
        "outputId": "f37e385b-2a51-48fc-a183-d1cbca96af2d"
      },
      "execution_count": null,
      "outputs": [
        {
          "output_type": "stream",
          "name": "stdout",
          "text": [
            "Concatenated x and y along rows:\n",
            "[[1 2]\n",
            " [3 5]\n",
            " [5 6]\n",
            " [7 8]]\n",
            "\n",
            "Concatenated v and w along columns:\n",
            "[[ 9 11]\n",
            " [10 12]]\n"
          ]
        }
      ]
    },
    {
      "cell_type": "markdown",
      "source": [
        "Using Python Lists, perform element-wise addition of two lists of size 1, 000, 000. Measure\n",
        "and Print the time taken for this operation."
      ],
      "metadata": {
        "id": "8sMQooG3-rGd"
      }
    },
    {
      "cell_type": "code",
      "source": [
        "import time\n",
        "\n",
        "# Create two lists of size 1,000,000\n",
        "list1 = [i for i in range(1, 1000001)]  # List with values from 1 to 1,000,000\n",
        "list2 = [i for i in range(1000001, 2000001)]  # List with values from 1,000,001 to 2,000,000\n",
        "\n",
        "# Start measuring time\n",
        "start_time = time.time()\n",
        "\n",
        "# Perform element-wise addition using a loop\n",
        "result = [list1[i] + list2[i] for i in range(len(list1))]\n",
        "\n",
        "# Measure the time taken\n",
        "end_time = time.time()\n",
        "\n",
        "# Print the time taken for the operation\n",
        "print(f\"Time taken for element-wise addition: {end_time - start_time} seconds\")\n"
      ],
      "metadata": {
        "colab": {
          "base_uri": "https://localhost:8080/"
        },
        "id": "yUxOYGq1_AeJ",
        "outputId": "38981217-b374-404a-b9cc-dfbeff04d47d"
      },
      "execution_count": null,
      "outputs": [
        {
          "output_type": "stream",
          "name": "stdout",
          "text": [
            "Time taken for element-wise addition: 0.2758946418762207 seconds\n"
          ]
        }
      ]
    },
    {
      "cell_type": "markdown",
      "source": [
        "Using Numpy Arrays, Repeat the calculation and measure and print the time taken for this\n",
        "operation."
      ],
      "metadata": {
        "id": "lxOJ7Eyh_h8K"
      }
    },
    {
      "cell_type": "code",
      "source": [
        "import numpy as np\n",
        "import time\n",
        "\n",
        "# Create two NumPy arrays of size 1,000,000\n",
        "array1 = np.arange(1, 1000001)  # Array with values from 1 to 1,000,000\n",
        "array2 = np.arange(1000001, 2000001)  # Array with values from 1,000,001 to 2,000,000\n",
        "\n",
        "# Start measuring time\n",
        "start_time = time.time()\n",
        "\n",
        "# Perform element-wise addition using NumPy arrays\n",
        "result = array1 + array2  # NumPy allows direct element-wise addition\n",
        "\n",
        "# Measure the time taken\n",
        "end_time = time.time()\n",
        "\n",
        "# Print the time taken for the operation\n",
        "print(f\"Time taken for element-wise addition using NumPy: {end_time - start_time} seconds\")\n"
      ],
      "metadata": {
        "colab": {
          "base_uri": "https://localhost:8080/"
        },
        "id": "1MIHBJTL_mLU",
        "outputId": "d93ba91f-d778-464a-bd04-561366ed3331"
      },
      "execution_count": null,
      "outputs": [
        {
          "output_type": "stream",
          "name": "stdout",
          "text": [
            "Time taken for element-wise addition using NumPy: 0.0049457550048828125 seconds\n"
          ]
        }
      ]
    },
    {
      "cell_type": "markdown",
      "source": [
        "Using Python Lists, perform element-wise multiplication of two lists of size 1, 000, 000. Mea-\n",
        "sure and Print the time taken for this operation."
      ],
      "metadata": {
        "id": "VrUI-j84_ts5"
      }
    },
    {
      "cell_type": "code",
      "source": [
        "import time\n",
        "\n",
        "# Create two lists of size 1,000,000\n",
        "list1 = [i for i in range(1, 1000001)]  # List with values from 1 to 1,000,000\n",
        "list2 = [i for i in range(1000001, 2000001)]  # List with values from 1,000,001 to 2,000,000\n",
        "\n",
        "# Start measuring time\n",
        "start_time = time.time()\n",
        "\n",
        "# Perform element-wise multiplication using a loop\n",
        "result = [list1[i] * list2[i] for i in range(len(list1))]\n",
        "\n",
        "# Measure the time taken\n",
        "end_time = time.time()\n",
        "\n",
        "# Print the time taken for the operation\n",
        "print(f\"Time taken for element-wise multiplication using Python lists: {end_time - start_time} seconds\")\n"
      ],
      "metadata": {
        "colab": {
          "base_uri": "https://localhost:8080/"
        },
        "id": "q7Yynxx9_wiK",
        "outputId": "9f5bb966-ee52-4122-c726-6a51b538429b"
      },
      "execution_count": null,
      "outputs": [
        {
          "output_type": "stream",
          "name": "stdout",
          "text": [
            "Time taken for element-wise multiplication using Python lists: 0.18067455291748047 seconds\n"
          ]
        }
      ]
    },
    {
      "cell_type": "markdown",
      "source": [
        "Using Numpy Arrays, Repeat the calculation and measure and print the time taken for this\n",
        "operation."
      ],
      "metadata": {
        "id": "9zg8yaZl_6v9"
      }
    },
    {
      "cell_type": "code",
      "source": [
        "import numpy as np\n",
        "import time\n",
        "\n",
        "# Create two NumPy arrays of size 1,000,000\n",
        "array1 = np.arange(1, 1000001)  # Array with values from 1 to 1,000,000\n",
        "array2 = np.arange(1000001, 2000001)  # Array with values from 1,000,001 to 2,000,000\n",
        "\n",
        "# Start measuring time\n",
        "start_time = time.time()\n",
        "\n",
        "# Perform element-wise multiplication using NumPy arrays\n",
        "result = array1 * array2  # NumPy allows direct element-wise multiplication\n",
        "\n",
        "# Measure the time taken\n",
        "end_time = time.time()\n",
        "\n",
        "# Print the time taken for the operation\n",
        "print(f\"Time taken for element-wise multiplication using NumPy: {end_time - start_time} seconds\")\n"
      ],
      "metadata": {
        "colab": {
          "base_uri": "https://localhost:8080/"
        },
        "id": "9v9JX12L_9R1",
        "outputId": "78ced227-b6d6-40ec-ccdc-dc7d778e27ab"
      },
      "execution_count": null,
      "outputs": [
        {
          "output_type": "stream",
          "name": "stdout",
          "text": [
            "Time taken for element-wise multiplication using NumPy: 0.004934549331665039 seconds\n"
          ]
        }
      ]
    },
    {
      "cell_type": "markdown",
      "source": [
        "Using Python Lists, compute the dot product of two lists of size 1, 000, 000. Measure and\n",
        "Print the time taken for this operation."
      ],
      "metadata": {
        "id": "ZGCLcNFMAQs_"
      }
    },
    {
      "cell_type": "code",
      "source": [
        "import time\n",
        "\n",
        "# Create two lists of size 1,000,000\n",
        "list1 = [i for i in range(1, 1000001)]  # List with values from 1 to 1,000,000\n",
        "list2 = [i for i in range(1000001, 2000001)]  # List with values from 1,000,001 to 2,000,000\n",
        "\n",
        "# Start measuring time\n",
        "start_time = time.time()\n",
        "\n",
        "# Perform dot product using a loop (element-wise multiplication and sum)\n",
        "dot_product = sum(list1[i] * list2[i] for i in range(len(list1)))\n",
        "\n",
        "# Measure the time taken\n",
        "end_time = time.time()\n",
        "\n",
        "# Print the time taken for the operation\n",
        "print(f\"Time taken for dot product using Python lists: {end_time - start_time} seconds\")\n"
      ],
      "metadata": {
        "colab": {
          "base_uri": "https://localhost:8080/"
        },
        "id": "snSK2baZAVAn",
        "outputId": "103379f5-f28b-4572-c426-4c1ba1a17ed1"
      },
      "execution_count": null,
      "outputs": [
        {
          "output_type": "stream",
          "name": "stdout",
          "text": [
            "Time taken for dot product using Python lists: 0.18046092987060547 seconds\n"
          ]
        }
      ]
    },
    {
      "cell_type": "markdown",
      "source": [
        "Using Numpy Arrays, Repeat the calculation and measure and print the time taken for this\n",
        "operation."
      ],
      "metadata": {
        "id": "jGfGIg2cAn3n"
      }
    },
    {
      "cell_type": "code",
      "source": [
        "import numpy as np\n",
        "import time\n",
        "\n",
        "# Create two NumPy arrays of size 1,000,000\n",
        "array1 = np.arange(1, 1000001)  # Array with values from 1 to 1,000,000\n",
        "array2 = np.arange(1000001, 2000001)  # Array with values from 1,000,001 to 2,000,000\n",
        "\n",
        "# Start measuring time\n",
        "start_time = time.time()\n",
        "\n",
        "# Perform dot product using NumPy arrays\n",
        "dot_product = np.dot(array1, array2)\n",
        "\n",
        "# Measure the time taken\n",
        "end_time = time.time()\n",
        "\n",
        "# Print the time taken for the operation\n",
        "print(f\"Time taken for dot product using NumPy: {end_time - start_time} seconds\")\n"
      ],
      "metadata": {
        "colab": {
          "base_uri": "https://localhost:8080/"
        },
        "id": "xOh16u45AqLp",
        "outputId": "c957edb1-574a-4db7-d344-33077ee412e3"
      },
      "execution_count": null,
      "outputs": [
        {
          "output_type": "stream",
          "name": "stdout",
          "text": [
            "Time taken for dot product using NumPy: 0.001987934112548828 seconds\n"
          ]
        }
      ]
    },
    {
      "cell_type": "markdown",
      "source": [
        "Using Python lists, perform matrix multiplication of two matrices of size 1000x1000. Measure\n",
        "and print the time taken for this operation."
      ],
      "metadata": {
        "id": "8chfd1dyAx0v"
      }
    },
    {
      "cell_type": "code",
      "source": [
        "import time\n",
        "\n",
        "# Create two 1000x1000 matrices\n",
        "matrix1 = [[i + j for j in range(1000)] for i in range(1000)]  # 1000x1000 matrix\n",
        "matrix2 = [[i - j for j in range(1000)] for i in range(1000)]  # 1000x1000 matrix\n",
        "\n",
        "# Start measuring time\n",
        "start_time = time.time()\n",
        "\n",
        "# Perform matrix multiplication (result = matrix1 * matrix2)\n",
        "result = [[sum(matrix1[i][k] * matrix2[k][j] for k in range(1000)) for j in range(1000)] for i in range(1000)]\n",
        "\n",
        "# Measure the time taken\n",
        "end_time = time.time()\n",
        "\n",
        "# Print the time taken for the operation\n",
        "print(f\"Time taken for matrix multiplication using Python lists: {end_time - start_time} seconds\")\n"
      ],
      "metadata": {
        "colab": {
          "base_uri": "https://localhost:8080/"
        },
        "id": "-OY5KoYBA0JQ",
        "outputId": "ff1aa73a-eadf-4f02-b5a1-2858a900274b"
      },
      "execution_count": null,
      "outputs": [
        {
          "output_type": "stream",
          "name": "stdout",
          "text": [
            "Time taken for matrix multiplication using Python lists: 251.66400718688965 seconds\n"
          ]
        }
      ]
    },
    {
      "cell_type": "markdown",
      "source": [
        "Using NumPy arrays, perform matrix multiplication of two matrices of size 1000x1000. Mea-\n",
        "sure and print the time taken for this operation."
      ],
      "metadata": {
        "id": "aIzOXCwCA7nd"
      }
    },
    {
      "cell_type": "code",
      "source": [
        "import numpy as np\n",
        "import time\n",
        "\n",
        "# Create two 1000x1000 matrices with random values\n",
        "matrix1 = np.random.rand(1000, 1000)  # 1000x1000 matrix with random values\n",
        "matrix2 = np.random.rand(1000, 1000)  # 1000x1000 matrix with random values\n",
        "\n",
        "# Start measuring time\n",
        "start_time = time.time()\n",
        "\n",
        "# Perform matrix multiplication using NumPy\n",
        "result = np.dot(matrix1, matrix2)  # You can also use matrix1 @ matrix2\n",
        "\n",
        "# Measure the time taken\n",
        "end_time = time.time()\n",
        "\n",
        "# Print the time taken for the operation\n",
        "print(f\"Time taken for matrix multiplication using NumPy: {end_time - start_time} seconds\")\n"
      ],
      "metadata": {
        "colab": {
          "base_uri": "https://localhost:8080/"
        },
        "id": "eUxhaVBzA-6Y",
        "outputId": "1e60f099-bb85-456f-b25b-5dfb83ed58c1"
      },
      "execution_count": null,
      "outputs": [
        {
          "output_type": "stream",
          "name": "stdout",
          "text": [
            "Time taken for matrix multiplication using NumPy: 0.16306018829345703 seconds\n"
          ]
        }
      ]
    }
  ]
}